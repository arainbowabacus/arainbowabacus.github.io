{
 "cells": [
  {
   "cell_type": "markdown",
   "metadata": {},
   "source": [
    "Project Euler Problem 6\n",
    "\n",
    "Find the difference between the sum of the squares of the first one hundred natural numbers and the square of the sum.\n"
   ]
  },
  {
   "cell_type": "code",
   "execution_count": 1,
   "metadata": {},
   "outputs": [],
   "source": [
    "def solution (a,b):\n",
    "\n",
    "    #sum of the squares of the numbers in the series\n",
    "    testlist = []\n",
    "    def sumofsq(a,b): \n",
    "        for i in range (a,b):\n",
    "            testlist.append (i*i)\n",
    "        return (sum(testlist))\n",
    "    \n",
    "    #square of the sum of the numbers in the series\n",
    "    def sqofsum(a,b):\n",
    "        return sum (range (a,b)) * sum (range (a,b))\n",
    "\n",
    "    #calculation\n",
    "    return (sqofsum (a,b) - sumofsq (a,b))"
   ]
  },
  {
   "cell_type": "code",
   "execution_count": 2,
   "metadata": {
    "scrolled": true
   },
   "outputs": [
    {
     "name": "stdout",
     "output_type": "stream",
     "text": [
      "Enter start of range:1\n",
      "Enter end of range:11\n"
     ]
    }
   ],
   "source": [
    "#user input\n",
    "a = int (input(\"Enter start of range:\"))\n",
    "b = int (input(\"Enter end of range:\"))"
   ]
  },
  {
   "cell_type": "code",
   "execution_count": 3,
   "metadata": {},
   "outputs": [
    {
     "data": {
      "text/plain": [
       "2640"
      ]
     },
     "execution_count": 3,
     "metadata": {},
     "output_type": "execute_result"
    }
   ],
   "source": [
    "#running the function\n",
    "solution (a,b)"
   ]
  },
  {
   "cell_type": "code",
   "execution_count": 6,
   "metadata": {},
   "outputs": [],
   "source": [
    "# test based on example given in Project Euler problem\n",
    "assert (solution(1,11)==2640)"
   ]
  },
  {
   "cell_type": "code",
   "execution_count": null,
   "metadata": {},
   "outputs": [],
   "source": []
  }
 ],
 "metadata": {
  "kernelspec": {
   "display_name": "Python 3",
   "language": "python",
   "name": "python3"
  },
  "language_info": {
   "codemirror_mode": {
    "name": "ipython",
    "version": 3
   },
   "file_extension": ".py",
   "mimetype": "text/x-python",
   "name": "python",
   "nbconvert_exporter": "python",
   "pygments_lexer": "ipython3",
   "version": "3.8.3"
  }
 },
 "nbformat": 4,
 "nbformat_minor": 4
}
